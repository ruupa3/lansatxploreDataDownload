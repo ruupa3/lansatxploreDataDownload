{
  "nbformat": 4,
  "nbformat_minor": 0,
  "metadata": {
    "colab": {
      "provenance": [],
      "authorship_tag": "ABX9TyPMpxkIn3ERpwGL7wZORJkD",
      "include_colab_link": true
    },
    "kernelspec": {
      "name": "python3",
      "display_name": "Python 3"
    },
    "language_info": {
      "name": "python"
    }
  },
  "cells": [
    {
      "cell_type": "markdown",
      "metadata": {
        "id": "view-in-github",
        "colab_type": "text"
      },
      "source": [
        "<a href=\"https://colab.research.google.com/github/ruupa3/MLpractice1/blob/main/landsatxploreDataDownload.ipynb\" target=\"_parent\"><img src=\"https://colab.research.google.com/assets/colab-badge.svg\" alt=\"Open In Colab\"/></a>"
      ]
    },
    {
      "cell_type": "code",
      "execution_count": null,
      "metadata": {
        "id": "D2P0kFsUxCnj",
        "colab": {
          "base_uri": "https://localhost:8080/"
        },
        "outputId": "dc6c3840-d494-4d7d-fb8e-9b7426b63393"
      },
      "outputs": [
        {
          "output_type": "stream",
          "name": "stdout",
          "text": [
            "Collecting landsatxplore\n",
            "  Downloading landsatxplore-0.15.0-py3-none-any.whl (15 kB)\n",
            "Collecting click<8.0,>=7.1 (from landsatxplore)\n",
            "  Downloading click-7.1.2-py2.py3-none-any.whl (82 kB)\n",
            "\u001b[?25l     \u001b[90m━━━━━━━━━━━━━━━━━━━━━━━━━━━━━━━━━━━━━━━━\u001b[0m \u001b[32m0.0/82.8 kB\u001b[0m \u001b[31m?\u001b[0m eta \u001b[36m-:--:--\u001b[0m\r\u001b[2K     \u001b[91m━━━━━━━━━━━━━━━━━━━━━━━━━━━━━━━━━━━━━━━\u001b[0m\u001b[91m╸\u001b[0m \u001b[32m81.9/82.8 kB\u001b[0m \u001b[31m2.5 MB/s\u001b[0m eta \u001b[36m0:00:01\u001b[0m\r\u001b[2K     \u001b[90m━━━━━━━━━━━━━━━━━━━━━━━━━━━━━━━━━━━━━━━━\u001b[0m \u001b[32m82.8/82.8 kB\u001b[0m \u001b[31m2.1 MB/s\u001b[0m eta \u001b[36m0:00:00\u001b[0m\n",
            "\u001b[?25hRequirement already satisfied: python-dateutil<3.0,>=2.8 in /usr/local/lib/python3.10/dist-packages (from landsatxplore) (2.8.2)\n",
            "Requirement already satisfied: requests<3.0,>=2.20 in /usr/local/lib/python3.10/dist-packages (from landsatxplore) (2.31.0)\n",
            "Collecting shapely<2.0,>=1.7 (from landsatxplore)\n",
            "  Downloading Shapely-1.8.5.post1-cp310-cp310-manylinux_2_12_x86_64.manylinux2010_x86_64.whl (2.0 MB)\n",
            "\u001b[2K     \u001b[90m━━━━━━━━━━━━━━━━━━━━━━━━━━━━━━━━━━━━━━━━\u001b[0m \u001b[32m2.0/2.0 MB\u001b[0m \u001b[31m49.0 MB/s\u001b[0m eta \u001b[36m0:00:00\u001b[0m\n",
            "\u001b[?25hRequirement already satisfied: tqdm<5.0,>=4.58 in /usr/local/lib/python3.10/dist-packages (from landsatxplore) (4.66.1)\n",
            "Requirement already satisfied: six>=1.5 in /usr/local/lib/python3.10/dist-packages (from python-dateutil<3.0,>=2.8->landsatxplore) (1.16.0)\n",
            "Requirement already satisfied: charset-normalizer<4,>=2 in /usr/local/lib/python3.10/dist-packages (from requests<3.0,>=2.20->landsatxplore) (3.2.0)\n",
            "Requirement already satisfied: idna<4,>=2.5 in /usr/local/lib/python3.10/dist-packages (from requests<3.0,>=2.20->landsatxplore) (3.4)\n",
            "Requirement already satisfied: urllib3<3,>=1.21.1 in /usr/local/lib/python3.10/dist-packages (from requests<3.0,>=2.20->landsatxplore) (2.0.4)\n",
            "Requirement already satisfied: certifi>=2017.4.17 in /usr/local/lib/python3.10/dist-packages (from requests<3.0,>=2.20->landsatxplore) (2023.7.22)\n",
            "Installing collected packages: shapely, click, landsatxplore\n",
            "  Attempting uninstall: shapely\n",
            "    Found existing installation: shapely 2.0.1\n",
            "    Uninstalling shapely-2.0.1:\n",
            "      Successfully uninstalled shapely-2.0.1\n",
            "  Attempting uninstall: click\n",
            "    Found existing installation: click 8.1.6\n",
            "    Uninstalling click-8.1.6:\n",
            "      Successfully uninstalled click-8.1.6\n",
            "\u001b[31mERROR: pip's dependency resolver does not currently take into account all the packages that are installed. This behaviour is the source of the following dependency conflicts.\n",
            "fiona 1.9.4.post1 requires click~=8.0, but you have click 7.1.2 which is incompatible.\n",
            "flask 2.2.5 requires click>=8.0, but you have click 7.1.2 which is incompatible.\n",
            "dask 2023.8.0 requires click>=8.0, but you have click 7.1.2 which is incompatible.\n",
            "distributed 2023.8.0 requires click>=8.0, but you have click 7.1.2 which is incompatible.\n",
            "pip-tools 6.13.0 requires click>=8, but you have click 7.1.2 which is incompatible.\u001b[0m\u001b[31m\n",
            "\u001b[0mSuccessfully installed click-7.1.2 landsatxplore-0.15.0 shapely-1.8.5.post1\n"
          ]
        }
      ],
      "source": [
        "pip install landsatxplore"
      ]
    },
    {
      "cell_type": "code",
      "source": [
        "import json\n",
        "from landsatxplore.api import API\n",
        "\n",
        "username = ''\n",
        "password = ''\n",
        "\n",
        "# Initialize a new API instance and get an access key\n",
        "api = API(username, password)\n",
        "\n",
        "# Search for Landsat TM scenes\n",
        "scenes = api.search(\n",
        "    dataset='landsat_ot_c2_l2',\n",
        "    latitude=19.81,\n",
        "    longitude=85.83,\n",
        "    start_date='2023-01-01',\n",
        "    end_date='2023-01-10',\n",
        "    max_cloud_cover=10\n",
        ")"
      ],
      "metadata": {
        "id": "Aau6GcEHxe-I"
      },
      "execution_count": null,
      "outputs": []
    },
    {
      "cell_type": "code",
      "source": [
        "print(f\"{len(scenes)} scenes found.\")"
      ],
      "metadata": {
        "colab": {
          "base_uri": "https://localhost:8080/"
        },
        "id": "Ih0Lqkg7yX4p",
        "outputId": "2a0d2caa-31db-4c99-f880-aa43ca3ad397"
      },
      "execution_count": null,
      "outputs": [
        {
          "output_type": "stream",
          "name": "stdout",
          "text": [
            "2 scenes found.\n"
          ]
        }
      ]
    },
    {
      "cell_type": "code",
      "source": [
        "# Process the result\n",
        "for scene in scenes:\n",
        "    print(scene['acquisition_date'].strftime('%Y-%m-%d'))"
      ],
      "metadata": {
        "colab": {
          "base_uri": "https://localhost:8080/"
        },
        "id": "kMKfUqzDyuH0",
        "outputId": "7059a1f2-c4ae-45f5-ddcb-58d02fdb078e"
      },
      "execution_count": null,
      "outputs": [
        {
          "output_type": "stream",
          "name": "stdout",
          "text": [
            "2023-01-08\n",
            "2023-01-07\n"
          ]
        }
      ]
    },
    {
      "cell_type": "code",
      "source": [
        "for scene in scenes:\n",
        "    print(scene['landsat_product_id'])"
      ],
      "metadata": {
        "colab": {
          "base_uri": "https://localhost:8080/"
        },
        "id": "n6AdIxk_ywCJ",
        "outputId": "6e9b6d42-1999-44fb-daab-92a8158490d5"
      },
      "execution_count": null,
      "outputs": [
        {
          "output_type": "stream",
          "name": "stdout",
          "text": [
            "LC09_L1TP_139046_20230108_20230314_02_T1\n",
            "LC08_L1TP_140046_20230107_20230110_02_T1\n"
          ]
        }
      ]
    },
    {
      "cell_type": "code",
      "source": [
        "# Write scene footprints to disk\n",
        "fname = f\"{scene['landsat_product_id']}.geojson\"\n",
        "with open(fname, \"w\") as f:\n",
        "  json.dump(scene['spatial_coverage'].__geo_interface__, f)"
      ],
      "metadata": {
        "id": "9MYUfgNu09gT"
      },
      "execution_count": null,
      "outputs": []
    },
    {
      "cell_type": "code",
      "source": [
        "# api.logout()"
      ],
      "metadata": {
        "id": "Nrth9HygyzBd"
      },
      "execution_count": null,
      "outputs": []
    },
    {
      "cell_type": "code",
      "source": [
        "from landsatxplore.earthexplorer import EarthExplorer\n",
        "ee = EarthExplorer(username, password)\n",
        "workspace = \"C:/Users/Tribal Development 1/Downloads\"\n",
        "ee.download('LC91390462023008LGN01', output_dir=workspace)\n",
        "# ee.logout()"
      ],
      "metadata": {
        "id": "S_S-w1rN1U3E"
      },
      "execution_count": null,
      "outputs": []
    }
  ]
}
